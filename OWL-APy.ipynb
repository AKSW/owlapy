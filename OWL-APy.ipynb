{
 "cells": [
  {
   "cell_type": "code",
   "execution_count": 1,
   "metadata": {},
   "outputs": [],
   "source": [
    "from owlapy import IRI\n",
    "from owlapy.fast_instance_checker import OWLReasoner_FastInstanceChecker\n",
    "from owlapy.model import OWLClass, OWLObjectProperty, OWLObjectIntersectionOf, OWLObjectSomeValuesFrom, OWLThing\n",
    "from owlapy.owlready2 import OWLOntologyManager_Owlready2, OWLReasoner_Owlready2\n",
    "from owlapy.render import DLSyntaxObjectRenderer"
   ]
  },
  {
   "cell_type": "code",
   "execution_count": 2,
   "metadata": {},
   "outputs": [],
   "source": [
    "NS = \"http://example.com/father#\""
   ]
  },
  {
   "cell_type": "code",
   "execution_count": 3,
   "metadata": {},
   "outputs": [],
   "source": [
    "mgr = OWLOntologyManager_Owlready2()\n",
    "onto = mgr.load_ontology(IRI.create(\"file:///home/daikiri/OntoPy/KGs/father.owl\"))"
   ]
  },
  {
   "cell_type": "code",
   "execution_count": 4,
   "metadata": {},
   "outputs": [],
   "source": [
    "renderer = DLSyntaxObjectRenderer()"
   ]
  },
  {
   "cell_type": "code",
   "execution_count": 5,
   "metadata": {},
   "outputs": [],
   "source": [
    "male = OWLClass(IRI.create(NS, 'male'))\n",
    "female = OWLClass(IRI.create(NS, 'female'))\n",
    "has_child = OWLObjectProperty(IRI(NS, 'hasChild'))"
   ]
  },
  {
   "cell_type": "code",
   "execution_count": 6,
   "metadata": {},
   "outputs": [],
   "source": [
    "base_reasoner = OWLReasoner_Owlready2(onto)\n",
    "reasoner = OWLReasoner_FastInstanceChecker(onto, base_reasoner=base_reasoner)"
   ]
  },
  {
   "cell_type": "code",
   "execution_count": 7,
   "metadata": {},
   "outputs": [
    {
     "data": {
      "text/plain": [
       "[OWLNamedIndividual(IRI('http://example.com/father#','michelle')),\n",
       " OWLNamedIndividual(IRI('http://example.com/father#','anna'))]"
      ]
     },
     "execution_count": 7,
     "metadata": {},
     "output_type": "execute_result"
    }
   ],
   "source": [
    "list(reasoner.instances(female))"
   ]
  },
  {
   "cell_type": "code",
   "execution_count": 8,
   "metadata": {},
   "outputs": [
    {
     "data": {
      "text/plain": [
       "'male ⊓ (∃ hasChild.female)'"
      ]
     },
     "execution_count": 8,
     "metadata": {},
     "output_type": "execute_result"
    }
   ],
   "source": [
    "ce = OWLObjectIntersectionOf((male, OWLObjectSomeValuesFrom(property=has_child, filler=female)))\n",
    "renderer.render(ce)"
   ]
  },
  {
   "cell_type": "code",
   "execution_count": 9,
   "metadata": {},
   "outputs": [
    {
     "data": {
      "text/plain": [
       "[OWLNamedIndividual(IRI('http://example.com/father#','markus'))]"
      ]
     },
     "execution_count": 9,
     "metadata": {},
     "output_type": "execute_result"
    }
   ],
   "source": [
    "list(reasoner.instances(ce))"
   ]
  },
  {
   "cell_type": "code",
   "execution_count": 10,
   "metadata": {},
   "outputs": [
    {
     "data": {
      "text/plain": [
       "'female ⊓ (∃ hasChild.⊤)'"
      ]
     },
     "execution_count": 10,
     "metadata": {},
     "output_type": "execute_result"
    }
   ],
   "source": [
    "ce = OWLObjectIntersectionOf((female, OWLObjectSomeValuesFrom(property=has_child, filler=OWLThing)))\n",
    "renderer.render(ce)"
   ]
  },
  {
   "cell_type": "code",
   "execution_count": 11,
   "metadata": {},
   "outputs": [
    {
     "data": {
      "text/plain": [
       "[OWLNamedIndividual(IRI('http://example.com/father#','anna'))]"
      ]
     },
     "execution_count": 11,
     "metadata": {},
     "output_type": "execute_result"
    }
   ],
   "source": [
    "list(reasoner.instances(ce))"
   ]
  },
  {
   "cell_type": "code",
   "execution_count": 12,
   "metadata": {},
   "outputs": [
    {
     "data": {
      "text/plain": [
       "'∃ hasChild.(∃ hasChild.(∃ hasChild.⊤))'"
      ]
     },
     "execution_count": 12,
     "metadata": {},
     "output_type": "execute_result"
    }
   ],
   "source": [
    "ce = OWLObjectSomeValuesFrom(property=has_child,\n",
    "                             filler=OWLObjectSomeValuesFrom(property=has_child,\n",
    "                                                            filler=OWLObjectSomeValuesFrom(property=has_child,\n",
    "                                                                                           filler=OWLThing)))\n",
    "renderer.render(ce)"
   ]
  },
  {
   "cell_type": "code",
   "execution_count": 13,
   "metadata": {},
   "outputs": [
    {
     "data": {
      "text/plain": [
       "[OWLNamedIndividual(IRI('http://example.com/father#','stefan'))]"
      ]
     },
     "execution_count": 13,
     "metadata": {},
     "output_type": "execute_result"
    }
   ],
   "source": [
    "list(reasoner.instances(ce))"
   ]
  }
 ],
 "metadata": {
  "kernelspec": {
   "display_name": "Python (Ontolearn 0.1.4-dev)",
   "language": "python",
   "name": "daikiri2"
  },
  "language_info": {
   "codemirror_mode": {
    "name": "ipython",
    "version": 3
   },
   "file_extension": ".py",
   "mimetype": "text/x-python",
   "name": "python",
   "nbconvert_exporter": "python",
   "pygments_lexer": "ipython3",
   "version": "3.8.8"
  }
 },
 "nbformat": 4,
 "nbformat_minor": 4
}
